{
  "nbformat": 4,
  "nbformat_minor": 0,
  "metadata": {
    "colab": {
      "provenance": [],
      "authorship_tag": "ABX9TyMUd9IEX5mz0Toutz2vnbF4",
      "include_colab_link": true
    },
    "kernelspec": {
      "name": "python3",
      "display_name": "Python 3"
    },
    "language_info": {
      "name": "python"
    }
  },
  "cells": [
    {
      "cell_type": "markdown",
      "metadata": {
        "id": "view-in-github",
        "colab_type": "text"
      },
      "source": [
        "<a href=\"https://colab.research.google.com/github/abhishek2021005/Health-Insurance-Price-Prediction/blob/main/Health_insurance.ipynb\" target=\"_parent\"><img src=\"https://colab.research.google.com/assets/colab-badge.svg\" alt=\"Open In Colab\"/></a>"
      ]
    },
    {
      "cell_type": "markdown",
      "source": [
        "#**Project On Health Insurance Pricing Prediction In ML**\n",
        "\n",
        "\n",
        "\n",
        "\n",
        "\n",
        "\n"
      ],
      "metadata": {
        "id": "5o5FTb9_vf22"
      }
    },
    {
      "cell_type": "markdown",
      "source": [
        "Importing Dependencies"
      ],
      "metadata": {
        "id": "I4Hse0z_e8x3"
      }
    },
    {
      "cell_type": "code",
      "source": [
        "import numpy as np\n",
        "import pandas as pd\n",
        "import matplotlib.pyplot as plt\n",
        "import seaborn as sns\n",
        "from sklearn.model_selection import train_test_split\n",
        "from sklearn.linear_model import LinearRegression\n",
        "from sklearn import metrics\n",
        "\n"
      ],
      "metadata": {
        "id": "Si1ZB2GpdgQp"
      },
      "execution_count": null,
      "outputs": []
    },
    {
      "cell_type": "code",
      "source": [
        "insurance = pd.read_csv(\"https://raw.githubusercontent.com/abhishek2021005/Health-Insurance-Price-Prediction/main/insurance.csv")\n"
      ],
      "metadata": {
        "id": "myqg4nhie6C-"
      },
      "execution_count": null,
      "outputs": []
    },
    {
      "cell_type": "code",
      "source": [
        "insurance.head()"
      ],
      "metadata": {
        "colab": {
          "base_uri": "https://localhost:8080/",
          "height": 206
        },
        "id": "yT4hYdEqapDz",
        "outputId": "8aa81478-d1ae-4ab6-e3c8-4514e124b87e"
      },
      "execution_count": null,
      "outputs": [
        {
          "output_type": "execute_result",
          "data": {
            "text/plain": [
              "   age     sex     bmi  children smoker     region      charges\n",
              "0   19  female  27.900         0    yes  southwest  16884.92400\n",
              "1   18    male  33.770         1     no  southeast   1725.55230\n",
              "2   28    male  33.000         3     no  southeast   4449.46200\n",
              "3   33    male  22.705         0     no  northwest  21984.47061\n",
              "4   32    male  28.880         0     no  northwest   3866.85520"
            ],
            "text/html": [
              "\n",
              "  <div id=\"df-7be3855d-5c48-4604-b41f-c05601cbfc89\">\n",
              "    <div class=\"colab-df-container\">\n",
              "      <div>\n",
              "<style scoped>\n",
              "    .dataframe tbody tr th:only-of-type {\n",
              "        vertical-align: middle;\n",
              "    }\n",
              "\n",
              "    .dataframe tbody tr th {\n",
              "        vertical-align: top;\n",
              "    }\n",
              "\n",
              "    .dataframe thead th {\n",
              "        text-align: right;\n",
              "    }\n",
              "</style>\n",
              "<table border=\"1\" class=\"dataframe\">\n",
              "  <thead>\n",
              "    <tr style=\"text-align: right;\">\n",
              "      <th></th>\n",
              "      <th>age</th>\n",
              "      <th>sex</th>\n",
              "      <th>bmi</th>\n",
              "      <th>children</th>\n",
              "      <th>smoker</th>\n",
              "      <th>region</th>\n",
              "      <th>charges</th>\n",
              "    </tr>\n",
              "  </thead>\n",
              "  <tbody>\n",
              "    <tr>\n",
              "      <th>0</th>\n",
              "      <td>19</td>\n",
              "      <td>female</td>\n",
              "      <td>27.900</td>\n",
              "      <td>0</td>\n",
              "      <td>yes</td>\n",
              "      <td>southwest</td>\n",
              "      <td>16884.92400</td>\n",
              "    </tr>\n",
              "    <tr>\n",
              "      <th>1</th>\n",
              "      <td>18</td>\n",
              "      <td>male</td>\n",
              "      <td>33.770</td>\n",
              "      <td>1</td>\n",
              "      <td>no</td>\n",
              "      <td>southeast</td>\n",
              "      <td>1725.55230</td>\n",
              "    </tr>\n",
              "    <tr>\n",
              "      <th>2</th>\n",
              "      <td>28</td>\n",
              "      <td>male</td>\n",
              "      <td>33.000</td>\n",
              "      <td>3</td>\n",
              "      <td>no</td>\n",
              "      <td>southeast</td>\n",
              "      <td>4449.46200</td>\n",
              "    </tr>\n",
              "    <tr>\n",
              "      <th>3</th>\n",
              "      <td>33</td>\n",
              "      <td>male</td>\n",
              "      <td>22.705</td>\n",
              "      <td>0</td>\n",
              "      <td>no</td>\n",
              "      <td>northwest</td>\n",
              "      <td>21984.47061</td>\n",
              "    </tr>\n",
              "    <tr>\n",
              "      <th>4</th>\n",
              "      <td>32</td>\n",
              "      <td>male</td>\n",
              "      <td>28.880</td>\n",
              "      <td>0</td>\n",
              "      <td>no</td>\n",
              "      <td>northwest</td>\n",
              "      <td>3866.85520</td>\n",
              "    </tr>\n",
              "  </tbody>\n",
              "</table>\n",
              "</div>\n",
              "      <button class=\"colab-df-convert\" onclick=\"convertToInteractive('df-7be3855d-5c48-4604-b41f-c05601cbfc89')\"\n",
              "              title=\"Convert this dataframe to an interactive table.\"\n",
              "              style=\"display:none;\">\n",
              "        \n",
              "  <svg xmlns=\"http://www.w3.org/2000/svg\" height=\"24px\"viewBox=\"0 0 24 24\"\n",
              "       width=\"24px\">\n",
              "    <path d=\"M0 0h24v24H0V0z\" fill=\"none\"/>\n",
              "    <path d=\"M18.56 5.44l.94 2.06.94-2.06 2.06-.94-2.06-.94-.94-2.06-.94 2.06-2.06.94zm-11 1L8.5 8.5l.94-2.06 2.06-.94-2.06-.94L8.5 2.5l-.94 2.06-2.06.94zm10 10l.94 2.06.94-2.06 2.06-.94-2.06-.94-.94-2.06-.94 2.06-2.06.94z\"/><path d=\"M17.41 7.96l-1.37-1.37c-.4-.4-.92-.59-1.43-.59-.52 0-1.04.2-1.43.59L10.3 9.45l-7.72 7.72c-.78.78-.78 2.05 0 2.83L4 21.41c.39.39.9.59 1.41.59.51 0 1.02-.2 1.41-.59l7.78-7.78 2.81-2.81c.8-.78.8-2.07 0-2.86zM5.41 20L4 18.59l7.72-7.72 1.47 1.35L5.41 20z\"/>\n",
              "  </svg>\n",
              "      </button>\n",
              "      \n",
              "  <style>\n",
              "    .colab-df-container {\n",
              "      display:flex;\n",
              "      flex-wrap:wrap;\n",
              "      gap: 12px;\n",
              "    }\n",
              "\n",
              "    .colab-df-convert {\n",
              "      background-color: #E8F0FE;\n",
              "      border: none;\n",
              "      border-radius: 50%;\n",
              "      cursor: pointer;\n",
              "      display: none;\n",
              "      fill: #1967D2;\n",
              "      height: 32px;\n",
              "      padding: 0 0 0 0;\n",
              "      width: 32px;\n",
              "    }\n",
              "\n",
              "    .colab-df-convert:hover {\n",
              "      background-color: #E2EBFA;\n",
              "      box-shadow: 0px 1px 2px rgba(60, 64, 67, 0.3), 0px 1px 3px 1px rgba(60, 64, 67, 0.15);\n",
              "      fill: #174EA6;\n",
              "    }\n",
              "\n",
              "    [theme=dark] .colab-df-convert {\n",
              "      background-color: #3B4455;\n",
              "      fill: #D2E3FC;\n",
              "    }\n",
              "\n",
              "    [theme=dark] .colab-df-convert:hover {\n",
              "      background-color: #434B5C;\n",
              "      box-shadow: 0px 1px 3px 1px rgba(0, 0, 0, 0.15);\n",
              "      filter: drop-shadow(0px 1px 2px rgba(0, 0, 0, 0.3));\n",
              "      fill: #FFFFFF;\n",
              "    }\n",
              "  </style>\n",
              "\n",
              "      <script>\n",
              "        const buttonEl =\n",
              "          document.querySelector('#df-7be3855d-5c48-4604-b41f-c05601cbfc89 button.colab-df-convert');\n",
              "        buttonEl.style.display =\n",
              "          google.colab.kernel.accessAllowed ? 'block' : 'none';\n",
              "\n",
              "        async function convertToInteractive(key) {\n",
              "          const element = document.querySelector('#df-7be3855d-5c48-4604-b41f-c05601cbfc89');\n",
              "          const dataTable =\n",
              "            await google.colab.kernel.invokeFunction('convertToInteractive',\n",
              "                                                     [key], {});\n",
              "          if (!dataTable) return;\n",
              "\n",
              "          const docLinkHtml = 'Like what you see? Visit the ' +\n",
              "            '<a target=\"_blank\" href=https://colab.research.google.com/notebooks/data_table.ipynb>data table notebook</a>'\n",
              "            + ' to learn more about interactive tables.';\n",
              "          element.innerHTML = '';\n",
              "          dataTable['output_type'] = 'display_data';\n",
              "          await google.colab.output.renderOutput(dataTable, element);\n",
              "          const docLink = document.createElement('div');\n",
              "          docLink.innerHTML = docLinkHtml;\n",
              "          element.appendChild(docLink);\n",
              "        }\n",
              "      </script>\n",
              "    </div>\n",
              "  </div>\n",
              "  "
            ]
          },
          "metadata": {},
          "execution_count": 20
        }
      ]
    },
    {
      "cell_type": "markdown",
      "source": [
        "### check if there is NULL data"
      ],
      "metadata": {
        "id": "acmVSAzlpHan"
      }
    },
    {
      "cell_type": "code",
      "source": [
        "insurance.isnull().sum()\n"
      ],
      "metadata": {
        "colab": {
          "base_uri": "https://localhost:8080/"
        },
        "id": "1cLIoQG6pEc_",
        "outputId": "245dac3a-bbd6-4518-da1b-58b0d4118bd8"
      },
      "execution_count": null,
      "outputs": [
        {
          "output_type": "execute_result",
          "data": {
            "text/plain": [
              "age         0\n",
              "sex         0\n",
              "bmi         0\n",
              "children    0\n",
              "smoker      0\n",
              "region      0\n",
              "charges     0\n",
              "dtype: int64"
            ]
          },
          "metadata": {},
          "execution_count": 28
        }
      ]
    },
    {
      "cell_type": "markdown",
      "source": [],
      "metadata": {
        "id": "pylPLGx3pEEd"
      }
    },
    {
      "cell_type": "markdown",
      "source": [
        "  <!-- converting 'sex', 'smoker' and 'region' to numerical values as the regression algorithms only work with numbers so\n",
        " sex- male will be 0 and female will be 1\n",
        " smoker- if yes then 1 else 0\n",
        " region- southwest – 1 southeast – 2 northwest – 3 northeast – 4  -->"
      ],
      "metadata": {
        "id": "YVYAmIVVi5yK"
      }
    },
    {
      "cell_type": "markdown",
      "source": [
        "### converting 'sex', 'smoker' and 'region' to numerical values as the regression algorithms only work with numbers so\n",
        "### sex- male will be 0 and female will be 1\n",
        "### smoker- if yes then 1 else 0\n",
        "### region- southwest – 1 southeast – 2 northwest – 3 northeast – 4"
      ],
      "metadata": {
        "id": "CYhPpjsZohtk"
      }
    },
    {
      "cell_type": "code",
      "source": [
        "insurance['sex'] = insurance['sex'].apply({\n",
        "     'male' : 0, 'female' : 1\n",
        "}.get)\n",
        "insurance['smoker'] = insurance['smoker'].apply({\n",
        "     'yes' : 1, 'no' : 0\n",
        "}.get)\n",
        "insurance['region'] = insurance['region'].apply({\n",
        "     'southwest' : 1, 'southeast' : 2,\n",
        "     'northwest' : 3, 'northeast' : 4,\n",
        "}.get)\n",
        "insurance.head()\n"
      ],
      "metadata": {
        "colab": {
          "base_uri": "https://localhost:8080/",
          "height": 206
        },
        "id": "xCiogAYpaVCT",
        "outputId": "b277872b-d2f5-4942-e693-c057e85e7292"
      },
      "execution_count": null,
      "outputs": [
        {
          "output_type": "execute_result",
          "data": {
            "text/plain": [
              "   age  sex     bmi  children  smoker  region      charges\n",
              "0   19    1  27.900         0       1       1  16884.92400\n",
              "1   18    0  33.770         1       0       2   1725.55230\n",
              "2   28    0  33.000         3       0       2   4449.46200\n",
              "3   33    0  22.705         0       0       3  21984.47061\n",
              "4   32    0  28.880         0       0       3   3866.85520"
            ],
            "text/html": [
              "\n",
              "  <div id=\"df-361406ac-7982-41c5-b274-0d493e188e78\">\n",
              "    <div class=\"colab-df-container\">\n",
              "      <div>\n",
              "<style scoped>\n",
              "    .dataframe tbody tr th:only-of-type {\n",
              "        vertical-align: middle;\n",
              "    }\n",
              "\n",
              "    .dataframe tbody tr th {\n",
              "        vertical-align: top;\n",
              "    }\n",
              "\n",
              "    .dataframe thead th {\n",
              "        text-align: right;\n",
              "    }\n",
              "</style>\n",
              "<table border=\"1\" class=\"dataframe\">\n",
              "  <thead>\n",
              "    <tr style=\"text-align: right;\">\n",
              "      <th></th>\n",
              "      <th>age</th>\n",
              "      <th>sex</th>\n",
              "      <th>bmi</th>\n",
              "      <th>children</th>\n",
              "      <th>smoker</th>\n",
              "      <th>region</th>\n",
              "      <th>charges</th>\n",
              "    </tr>\n",
              "  </thead>\n",
              "  <tbody>\n",
              "    <tr>\n",
              "      <th>0</th>\n",
              "      <td>19</td>\n",
              "      <td>1</td>\n",
              "      <td>27.900</td>\n",
              "      <td>0</td>\n",
              "      <td>1</td>\n",
              "      <td>1</td>\n",
              "      <td>16884.92400</td>\n",
              "    </tr>\n",
              "    <tr>\n",
              "      <th>1</th>\n",
              "      <td>18</td>\n",
              "      <td>0</td>\n",
              "      <td>33.770</td>\n",
              "      <td>1</td>\n",
              "      <td>0</td>\n",
              "      <td>2</td>\n",
              "      <td>1725.55230</td>\n",
              "    </tr>\n",
              "    <tr>\n",
              "      <th>2</th>\n",
              "      <td>28</td>\n",
              "      <td>0</td>\n",
              "      <td>33.000</td>\n",
              "      <td>3</td>\n",
              "      <td>0</td>\n",
              "      <td>2</td>\n",
              "      <td>4449.46200</td>\n",
              "    </tr>\n",
              "    <tr>\n",
              "      <th>3</th>\n",
              "      <td>33</td>\n",
              "      <td>0</td>\n",
              "      <td>22.705</td>\n",
              "      <td>0</td>\n",
              "      <td>0</td>\n",
              "      <td>3</td>\n",
              "      <td>21984.47061</td>\n",
              "    </tr>\n",
              "    <tr>\n",
              "      <th>4</th>\n",
              "      <td>32</td>\n",
              "      <td>0</td>\n",
              "      <td>28.880</td>\n",
              "      <td>0</td>\n",
              "      <td>0</td>\n",
              "      <td>3</td>\n",
              "      <td>3866.85520</td>\n",
              "    </tr>\n",
              "  </tbody>\n",
              "</table>\n",
              "</div>\n",
              "      <button class=\"colab-df-convert\" onclick=\"convertToInteractive('df-361406ac-7982-41c5-b274-0d493e188e78')\"\n",
              "              title=\"Convert this dataframe to an interactive table.\"\n",
              "              style=\"display:none;\">\n",
              "        \n",
              "  <svg xmlns=\"http://www.w3.org/2000/svg\" height=\"24px\"viewBox=\"0 0 24 24\"\n",
              "       width=\"24px\">\n",
              "    <path d=\"M0 0h24v24H0V0z\" fill=\"none\"/>\n",
              "    <path d=\"M18.56 5.44l.94 2.06.94-2.06 2.06-.94-2.06-.94-.94-2.06-.94 2.06-2.06.94zm-11 1L8.5 8.5l.94-2.06 2.06-.94-2.06-.94L8.5 2.5l-.94 2.06-2.06.94zm10 10l.94 2.06.94-2.06 2.06-.94-2.06-.94-.94-2.06-.94 2.06-2.06.94z\"/><path d=\"M17.41 7.96l-1.37-1.37c-.4-.4-.92-.59-1.43-.59-.52 0-1.04.2-1.43.59L10.3 9.45l-7.72 7.72c-.78.78-.78 2.05 0 2.83L4 21.41c.39.39.9.59 1.41.59.51 0 1.02-.2 1.41-.59l7.78-7.78 2.81-2.81c.8-.78.8-2.07 0-2.86zM5.41 20L4 18.59l7.72-7.72 1.47 1.35L5.41 20z\"/>\n",
              "  </svg>\n",
              "      </button>\n",
              "      \n",
              "  <style>\n",
              "    .colab-df-container {\n",
              "      display:flex;\n",
              "      flex-wrap:wrap;\n",
              "      gap: 12px;\n",
              "    }\n",
              "\n",
              "    .colab-df-convert {\n",
              "      background-color: #E8F0FE;\n",
              "      border: none;\n",
              "      border-radius: 50%;\n",
              "      cursor: pointer;\n",
              "      display: none;\n",
              "      fill: #1967D2;\n",
              "      height: 32px;\n",
              "      padding: 0 0 0 0;\n",
              "      width: 32px;\n",
              "    }\n",
              "\n",
              "    .colab-df-convert:hover {\n",
              "      background-color: #E2EBFA;\n",
              "      box-shadow: 0px 1px 2px rgba(60, 64, 67, 0.3), 0px 1px 3px 1px rgba(60, 64, 67, 0.15);\n",
              "      fill: #174EA6;\n",
              "    }\n",
              "\n",
              "    [theme=dark] .colab-df-convert {\n",
              "      background-color: #3B4455;\n",
              "      fill: #D2E3FC;\n",
              "    }\n",
              "\n",
              "    [theme=dark] .colab-df-convert:hover {\n",
              "      background-color: #434B5C;\n",
              "      box-shadow: 0px 1px 3px 1px rgba(0, 0, 0, 0.15);\n",
              "      filter: drop-shadow(0px 1px 2px rgba(0, 0, 0, 0.3));\n",
              "      fill: #FFFFFF;\n",
              "    }\n",
              "  </style>\n",
              "\n",
              "      <script>\n",
              "        const buttonEl =\n",
              "          document.querySelector('#df-361406ac-7982-41c5-b274-0d493e188e78 button.colab-df-convert');\n",
              "        buttonEl.style.display =\n",
              "          google.colab.kernel.accessAllowed ? 'block' : 'none';\n",
              "\n",
              "        async function convertToInteractive(key) {\n",
              "          const element = document.querySelector('#df-361406ac-7982-41c5-b274-0d493e188e78');\n",
              "          const dataTable =\n",
              "            await google.colab.kernel.invokeFunction('convertToInteractive',\n",
              "                                                     [key], {});\n",
              "          if (!dataTable) return;\n",
              "\n",
              "          const docLinkHtml = 'Like what you see? Visit the ' +\n",
              "            '<a target=\"_blank\" href=https://colab.research.google.com/notebooks/data_table.ipynb>data table notebook</a>'\n",
              "            + ' to learn more about interactive tables.';\n",
              "          element.innerHTML = '';\n",
              "          dataTable['output_type'] = 'display_data';\n",
              "          await google.colab.output.renderOutput(dataTable, element);\n",
              "          const docLink = document.createElement('div');\n",
              "          docLink.innerHTML = docLinkHtml;\n",
              "          element.appendChild(docLink);\n",
              "        }\n",
              "      </script>\n",
              "    </div>\n",
              "  </div>\n",
              "  "
            ]
          },
          "metadata": {},
          "execution_count": 21
        }
      ]
    },
    {
      "cell_type": "markdown",
      "source": [
        "**Coorelation between charges and age**\n"
      ],
      "metadata": {
        "id": "Q_XTqrW0ic1d"
      }
    },
    {
      "cell_type": "code",
      "source": [
        "sns.jointplot(x=insurance['age'],y=insurance['charges'])"
      ],
      "metadata": {
        "colab": {
          "base_uri": "https://localhost:8080/",
          "height": 459
        },
        "id": "cnJ5NWQza4CG",
        "outputId": "6c7bce78-3997-45ad-c981-4a391008da69"
      },
      "execution_count": null,
      "outputs": [
        {
          "output_type": "execute_result",
          "data": {
            "text/plain": [
              "<seaborn.axisgrid.JointGrid at 0x7fbbd152bca0>"
            ]
          },
          "metadata": {},
          "execution_count": 26
        },
        {
          "output_type": "display_data",
          "data": {
            "text/plain": [
              "<Figure size 432x432 with 3 Axes>"
            ],
            "image/png": "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\n"
          },
          "metadata": {
            "needs_background": "light"
          }
        }
      ]
    },
    {
      "cell_type": "markdown",
      "source": [
        "**Correlation between charges and smoker**\n"
      ],
      "metadata": {
        "id": "OTCErUDYiGd-"
      }
    },
    {
      "cell_type": "code",
      "source": [
        "sns.jointplot(x=insurance['smoker'],y=insurance['charges'])"
      ],
      "metadata": {
        "colab": {
          "base_uri": "https://localhost:8080/",
          "height": 459
        },
        "id": "ws26gEmMbK1t",
        "outputId": "e892c430-96cc-48de-c19a-3fac54d5e095"
      },
      "execution_count": null,
      "outputs": [
        {
          "output_type": "execute_result",
          "data": {
            "text/plain": [
              "<seaborn.axisgrid.JointGrid at 0x7fbbd1345220>"
            ]
          },
          "metadata": {},
          "execution_count": 27
        },
        {
          "output_type": "display_data",
          "data": {
            "text/plain": [
              "<Figure size 432x432 with 3 Axes>"
            ],
            "image/png": "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\n"
          },
          "metadata": {
            "needs_background": "light"
          }
        }
      ]
    },
    {
      "cell_type": "markdown",
      "source": [
        "* Step 1 - The Dataset is Split Into ‘X’ Array That Contains The Features And a ‘Y’ Array With The Target Variable."
      ],
      "metadata": {
        "id": "DTE_pTGxqvbA"
      }
    },
    {
      "cell_type": "code",
      "source": [
        "x = insurance[['age','sex','bmi','children','smoker','region']]\n",
        "y = insurance['charges']"
      ],
      "metadata": {
        "id": "IXh01WlSqDpM"
      },
      "execution_count": null,
      "outputs": []
    },
    {
      "cell_type": "markdown",
      "source": [
        "\n",
        "* Step 2 - Split The Dataset Into a Training And Testing Dataset"
      ],
      "metadata": {
        "id": "Y2f-YHPnqpoC"
      }
    },
    {
      "cell_type": "code",
      "source": [
        "from sklearn.model_selection import train_test_split\n",
        "X_train,X_test,Y_train,Y_test = train_test_split(x,y,test_size = 0.4) \n",
        "X_train"
      ],
      "metadata": {
        "colab": {
          "base_uri": "https://localhost:8080/",
          "height": 424
        },
        "id": "yrV070JQqOi5",
        "outputId": "a0e52347-e26e-41a1-8417-6a14bf0bfb41"
      },
      "execution_count": null,
      "outputs": [
        {
          "output_type": "execute_result",
          "data": {
            "text/plain": [
              "      age  sex     bmi  children  smoker  region\n",
              "563    50    0  44.770         1       0       2\n",
              "885    32    0  28.930         1       1       2\n",
              "718    51    1  36.670         2       0       3\n",
              "476    24    0  28.500         0       1       4\n",
              "1321   62    0  26.695         0       1       4\n",
              "...   ...  ...     ...       ...     ...     ...\n",
              "576    22    0  26.840         0       0       2\n",
              "1203   51    0  32.300         1       0       4\n",
              "1307   32    0  28.120         4       1       3\n",
              "39     60    0  39.900         0       1       1\n",
              "758    30    0  37.430         3       0       4\n",
              "\n",
              "[802 rows x 6 columns]"
            ],
            "text/html": [
              "\n",
              "  <div id=\"df-ea7e41b2-cd25-4641-9710-f61770543de1\">\n",
              "    <div class=\"colab-df-container\">\n",
              "      <div>\n",
              "<style scoped>\n",
              "    .dataframe tbody tr th:only-of-type {\n",
              "        vertical-align: middle;\n",
              "    }\n",
              "\n",
              "    .dataframe tbody tr th {\n",
              "        vertical-align: top;\n",
              "    }\n",
              "\n",
              "    .dataframe thead th {\n",
              "        text-align: right;\n",
              "    }\n",
              "</style>\n",
              "<table border=\"1\" class=\"dataframe\">\n",
              "  <thead>\n",
              "    <tr style=\"text-align: right;\">\n",
              "      <th></th>\n",
              "      <th>age</th>\n",
              "      <th>sex</th>\n",
              "      <th>bmi</th>\n",
              "      <th>children</th>\n",
              "      <th>smoker</th>\n",
              "      <th>region</th>\n",
              "    </tr>\n",
              "  </thead>\n",
              "  <tbody>\n",
              "    <tr>\n",
              "      <th>563</th>\n",
              "      <td>50</td>\n",
              "      <td>0</td>\n",
              "      <td>44.770</td>\n",
              "      <td>1</td>\n",
              "      <td>0</td>\n",
              "      <td>2</td>\n",
              "    </tr>\n",
              "    <tr>\n",
              "      <th>885</th>\n",
              "      <td>32</td>\n",
              "      <td>0</td>\n",
              "      <td>28.930</td>\n",
              "      <td>1</td>\n",
              "      <td>1</td>\n",
              "      <td>2</td>\n",
              "    </tr>\n",
              "    <tr>\n",
              "      <th>718</th>\n",
              "      <td>51</td>\n",
              "      <td>1</td>\n",
              "      <td>36.670</td>\n",
              "      <td>2</td>\n",
              "      <td>0</td>\n",
              "      <td>3</td>\n",
              "    </tr>\n",
              "    <tr>\n",
              "      <th>476</th>\n",
              "      <td>24</td>\n",
              "      <td>0</td>\n",
              "      <td>28.500</td>\n",
              "      <td>0</td>\n",
              "      <td>1</td>\n",
              "      <td>4</td>\n",
              "    </tr>\n",
              "    <tr>\n",
              "      <th>1321</th>\n",
              "      <td>62</td>\n",
              "      <td>0</td>\n",
              "      <td>26.695</td>\n",
              "      <td>0</td>\n",
              "      <td>1</td>\n",
              "      <td>4</td>\n",
              "    </tr>\n",
              "    <tr>\n",
              "      <th>...</th>\n",
              "      <td>...</td>\n",
              "      <td>...</td>\n",
              "      <td>...</td>\n",
              "      <td>...</td>\n",
              "      <td>...</td>\n",
              "      <td>...</td>\n",
              "    </tr>\n",
              "    <tr>\n",
              "      <th>576</th>\n",
              "      <td>22</td>\n",
              "      <td>0</td>\n",
              "      <td>26.840</td>\n",
              "      <td>0</td>\n",
              "      <td>0</td>\n",
              "      <td>2</td>\n",
              "    </tr>\n",
              "    <tr>\n",
              "      <th>1203</th>\n",
              "      <td>51</td>\n",
              "      <td>0</td>\n",
              "      <td>32.300</td>\n",
              "      <td>1</td>\n",
              "      <td>0</td>\n",
              "      <td>4</td>\n",
              "    </tr>\n",
              "    <tr>\n",
              "      <th>1307</th>\n",
              "      <td>32</td>\n",
              "      <td>0</td>\n",
              "      <td>28.120</td>\n",
              "      <td>4</td>\n",
              "      <td>1</td>\n",
              "      <td>3</td>\n",
              "    </tr>\n",
              "    <tr>\n",
              "      <th>39</th>\n",
              "      <td>60</td>\n",
              "      <td>0</td>\n",
              "      <td>39.900</td>\n",
              "      <td>0</td>\n",
              "      <td>1</td>\n",
              "      <td>1</td>\n",
              "    </tr>\n",
              "    <tr>\n",
              "      <th>758</th>\n",
              "      <td>30</td>\n",
              "      <td>0</td>\n",
              "      <td>37.430</td>\n",
              "      <td>3</td>\n",
              "      <td>0</td>\n",
              "      <td>4</td>\n",
              "    </tr>\n",
              "  </tbody>\n",
              "</table>\n",
              "<p>802 rows × 6 columns</p>\n",
              "</div>\n",
              "      <button class=\"colab-df-convert\" onclick=\"convertToInteractive('df-ea7e41b2-cd25-4641-9710-f61770543de1')\"\n",
              "              title=\"Convert this dataframe to an interactive table.\"\n",
              "              style=\"display:none;\">\n",
              "        \n",
              "  <svg xmlns=\"http://www.w3.org/2000/svg\" height=\"24px\"viewBox=\"0 0 24 24\"\n",
              "       width=\"24px\">\n",
              "    <path d=\"M0 0h24v24H0V0z\" fill=\"none\"/>\n",
              "    <path d=\"M18.56 5.44l.94 2.06.94-2.06 2.06-.94-2.06-.94-.94-2.06-.94 2.06-2.06.94zm-11 1L8.5 8.5l.94-2.06 2.06-.94-2.06-.94L8.5 2.5l-.94 2.06-2.06.94zm10 10l.94 2.06.94-2.06 2.06-.94-2.06-.94-.94-2.06-.94 2.06-2.06.94z\"/><path d=\"M17.41 7.96l-1.37-1.37c-.4-.4-.92-.59-1.43-.59-.52 0-1.04.2-1.43.59L10.3 9.45l-7.72 7.72c-.78.78-.78 2.05 0 2.83L4 21.41c.39.39.9.59 1.41.59.51 0 1.02-.2 1.41-.59l7.78-7.78 2.81-2.81c.8-.78.8-2.07 0-2.86zM5.41 20L4 18.59l7.72-7.72 1.47 1.35L5.41 20z\"/>\n",
              "  </svg>\n",
              "      </button>\n",
              "      \n",
              "  <style>\n",
              "    .colab-df-container {\n",
              "      display:flex;\n",
              "      flex-wrap:wrap;\n",
              "      gap: 12px;\n",
              "    }\n",
              "\n",
              "    .colab-df-convert {\n",
              "      background-color: #E8F0FE;\n",
              "      border: none;\n",
              "      border-radius: 50%;\n",
              "      cursor: pointer;\n",
              "      display: none;\n",
              "      fill: #1967D2;\n",
              "      height: 32px;\n",
              "      padding: 0 0 0 0;\n",
              "      width: 32px;\n",
              "    }\n",
              "\n",
              "    .colab-df-convert:hover {\n",
              "      background-color: #E2EBFA;\n",
              "      box-shadow: 0px 1px 2px rgba(60, 64, 67, 0.3), 0px 1px 3px 1px rgba(60, 64, 67, 0.15);\n",
              "      fill: #174EA6;\n",
              "    }\n",
              "\n",
              "    [theme=dark] .colab-df-convert {\n",
              "      background-color: #3B4455;\n",
              "      fill: #D2E3FC;\n",
              "    }\n",
              "\n",
              "    [theme=dark] .colab-df-convert:hover {\n",
              "      background-color: #434B5C;\n",
              "      box-shadow: 0px 1px 3px 1px rgba(0, 0, 0, 0.15);\n",
              "      filter: drop-shadow(0px 1px 2px rgba(0, 0, 0, 0.3));\n",
              "      fill: #FFFFFF;\n",
              "    }\n",
              "  </style>\n",
              "\n",
              "      <script>\n",
              "        const buttonEl =\n",
              "          document.querySelector('#df-ea7e41b2-cd25-4641-9710-f61770543de1 button.colab-df-convert');\n",
              "        buttonEl.style.display =\n",
              "          google.colab.kernel.accessAllowed ? 'block' : 'none';\n",
              "\n",
              "        async function convertToInteractive(key) {\n",
              "          const element = document.querySelector('#df-ea7e41b2-cd25-4641-9710-f61770543de1');\n",
              "          const dataTable =\n",
              "            await google.colab.kernel.invokeFunction('convertToInteractive',\n",
              "                                                     [key], {});\n",
              "          if (!dataTable) return;\n",
              "\n",
              "          const docLinkHtml = 'Like what you see? Visit the ' +\n",
              "            '<a target=\"_blank\" href=https://colab.research.google.com/notebooks/data_table.ipynb>data table notebook</a>'\n",
              "            + ' to learn more about interactive tables.';\n",
              "          element.innerHTML = '';\n",
              "          dataTable['output_type'] = 'display_data';\n",
              "          await google.colab.output.renderOutput(dataTable, element);\n",
              "          const docLink = document.createElement('div');\n",
              "          docLink.innerHTML = docLinkHtml;\n",
              "          element.appendChild(docLink);\n",
              "        }\n",
              "      </script>\n",
              "    </div>\n",
              "  </div>\n",
              "  "
            ]
          },
          "metadata": {},
          "execution_count": 39
        }
      ]
    },
    {
      "cell_type": "markdown",
      "source": [
        "* Step 3 - Training And Testing The Model\n"
      ],
      "metadata": {
        "id": "mpANkUYFsqcv"
      }
    },
    {
      "cell_type": "code",
      "source": [
        "from sklearn.linear_model import LinearRegression\n",
        "model = LinearRegression()\n",
        "model.fit(X_train,Y_train)"
      ],
      "metadata": {
        "colab": {
          "base_uri": "https://localhost:8080/"
        },
        "id": "vFzs7-_hq5tI",
        "outputId": "0d7e7f40-9005-4c6d-9d19-d8257410eb13"
      },
      "execution_count": null,
      "outputs": [
        {
          "output_type": "execute_result",
          "data": {
            "text/plain": [
              "LinearRegression()"
            ]
          },
          "metadata": {},
          "execution_count": 44
        }
      ]
    },
    {
      "cell_type": "markdown",
      "source": [
        "* Step 4 - Prediction From The Model"
      ],
      "metadata": {
        "id": "zDDz6Ap5sw0Z"
      }
    },
    {
      "cell_type": "code",
      "source": [
        "predictions = model.predict(X_test)\n",
        "predictions[0:5]"
      ],
      "metadata": {
        "colab": {
          "base_uri": "https://localhost:8080/"
        },
        "id": "GMdZXl_UrPOv",
        "outputId": "5962c55b-c726-4f27-c987-8797aa7c180e"
      },
      "execution_count": null,
      "outputs": [
        {
          "output_type": "execute_result",
          "data": {
            "text/plain": [
              "array([35857.85551309,  5938.90130586,  8370.37043915, 24571.91780827,\n",
              "        5150.09968088])"
            ]
          },
          "metadata": {},
          "execution_count": 43
        }
      ]
    },
    {
      "cell_type": "markdown",
      "source": [
        "* Step 5 - Comparing The Results"
      ],
      "metadata": {
        "id": "f-RjqGUStYTK"
      }
    },
    {
      "cell_type": "code",
      "source": [
        "\n",
        "import matplotlib.pyplot as plt\n",
        "plt.scatter(Y_test,predictions,c=\"red\")\n",
        "plt.xlabel('Y Test')\n",
        "plt.ylabel('Predicted Y')"
      ],
      "metadata": {
        "colab": {
          "base_uri": "https://localhost:8080/",
          "height": 297
        },
        "id": "7fz5Gi47rY5f",
        "outputId": "2b7a2cdb-dc93-4f80-b280-0a6ba0b98de4"
      },
      "execution_count": null,
      "outputs": [
        {
          "output_type": "execute_result",
          "data": {
            "text/plain": [
              "Text(0, 0.5, 'Predicted Y')"
            ]
          },
          "metadata": {},
          "execution_count": 45
        },
        {
          "output_type": "display_data",
          "data": {
            "text/plain": [
              "<Figure size 432x288 with 1 Axes>"
            ],
            "image/png": "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\n"
          },
          "metadata": {
            "needs_background": "light"
          }
        }
      ]
    },
    {
      "cell_type": "markdown",
      "source": [
        "* Step 6 – Finding the regression model\n",
        "\n",
        "\n",
        "\n",
        "\n",
        "Finding the regression value or **R-square value**:"
      ],
      "metadata": {
        "id": "dpYEpDVPtqEd"
      }
    },
    {
      "cell_type": "code",
      "source": [
        "model.fit(x,y)\n",
        "model.score(x,y)"
      ],
      "metadata": {
        "colab": {
          "base_uri": "https://localhost:8080/"
        },
        "id": "JbZBHbEvrjya",
        "outputId": "d68804dd-e14e-462a-8710-24432bd0cc5b"
      },
      "execution_count": null,
      "outputs": [
        {
          "output_type": "execute_result",
          "data": {
            "text/plain": [
              "0.7507372027994937"
            ]
          },
          "metadata": {},
          "execution_count": 47
        }
      ]
    },
    {
      "cell_type": "markdown",
      "source": [
        "**Coefficient and intercept values**"
      ],
      "metadata": {
        "id": "cAkScNU7t3U8"
      }
    },
    {
      "cell_type": "code",
      "source": [
        "model.coef_\n"
      ],
      "metadata": {
        "colab": {
          "base_uri": "https://localhost:8080/"
        },
        "id": "9fQacopFruiN",
        "outputId": "f319d54f-908e-449c-88a0-f05112f1b986"
      },
      "execution_count": null,
      "outputs": [
        {
          "output_type": "execute_result",
          "data": {
            "text/plain": [
              "array([  257.28807486,   131.11057962,   332.57013224,   479.36939355,\n",
              "       23820.43412267,   353.64001656])"
            ]
          },
          "metadata": {},
          "execution_count": 48
        }
      ]
    },
    {
      "cell_type": "code",
      "source": [
        "model.intercept_"
      ],
      "metadata": {
        "colab": {
          "base_uri": "https://localhost:8080/"
        },
        "id": "AIwxZcKfrzxz",
        "outputId": "f0fe8e9e-e506-4cf9-b675-116fc43e21e2"
      },
      "execution_count": null,
      "outputs": [
        {
          "output_type": "execute_result",
          "data": {
            "text/plain": [
              "-13361.122967088835"
            ]
          },
          "metadata": {},
          "execution_count": 49
        }
      ]
    },
    {
      "cell_type": "markdown",
      "source": [
        "* Function for returning the insurance cost :"
      ],
      "metadata": {
        "id": "uSDrjfVXuobD"
      }
    },
    {
      "cell_type": "code",
      "source": [
        "def calc_insurance(age,sex,bmi,smoker,children,region):\n",
        " y = ((age * model.coef_[0]) + (sex * model.coef_[1]) + (bmi * model.coef_[2]) + (smoker * model.coef_[3]) + (children * model.coef_[4]) + (region * model.coef_[5]))\n",
        " return y"
      ],
      "metadata": {
        "id": "abv7kPTFr6uL"
      },
      "execution_count": null,
      "outputs": []
    },
    {
      "cell_type": "markdown",
      "source": [
        "**Output prediction**"
      ],
      "metadata": {
        "id": "LGBlYjdUu9L5"
      }
    },
    {
      "cell_type": "code",
      "source": [
        "print(calc_insurance(20,0,75.5,0,0,2))"
      ],
      "metadata": {
        "colab": {
          "base_uri": "https://localhost:8080/"
        },
        "id": "NwZGblUTscIz",
        "outputId": "e34710df-514f-4fad-e8cf-dbd8b15afe71"
      },
      "execution_count": null,
      "outputs": [
        {
          "output_type": "stream",
          "name": "stdout",
          "text": [
            "30962.086514572333\n"
          ]
        }
      ]
    }
  ]
}
